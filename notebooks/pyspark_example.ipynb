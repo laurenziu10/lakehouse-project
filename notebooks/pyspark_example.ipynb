{
 "cells": [
  {
   "cell_type": "code",
   "execution_count": null,
   "metadata": {},
   "outputs": [],
   "source": [
    "# Importiere notwendige Bibliotheken\n",
    "from pyspark.sql import SparkSession"
   ]
  },
  {
   "cell_type": "code",
   "execution_count": null,
   "metadata": {},
   "outputs": [],
   "source": [
    "# Erstelle eine SparkSession\n",
    "spark = SparkSession.builder.appName(\"PySparkExample\").getOrCreate()\n",
    "\n",
    "# Erstelle ein Beispiel DataFrame\n",
    "data = [('Alice', 25), ('Bob', 30), ('Charlie', 35)]\n",
    "columns = ['Name', 'Age']\n",
    "df = spark.createDataFrame(data, columns)"
   ]
  },
  {
   "cell_type": "code",
   "execution_count": null,
   "metadata": {},
   "outputs": [],
   "source": [
    "\n",
    "# Führe eine Transformation durch\n",
    "df_transformed = df.withColumn(\"AgePlusOne\", df[\"Age\"] + 1)\n",
    "\n",
    "# Zeige das transformierte DataFrame\n",
    "df_transformed.show()\n"
   ]
  }
 ],
 "metadata": {
  "language_info": {
   "name": "python"
  }
 },
 "nbformat": 4,
 "nbformat_minor": 2
}
